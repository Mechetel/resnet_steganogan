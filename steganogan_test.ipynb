{
 "cells": [
  {
   "cell_type": "markdown",
   "metadata": {
    "id": "qYnJJYUxbdua"
   },
   "source": [
    "# SteganoGAN in Keras\n",
    "This notebook contains code attempting to reimplement SteganoGAN in Keras, for the purpose of better understanding (and scrutinizing) it.\n",
    "\n",
    "*Based on https://github.com/DAI-Lab/SteganoGAN/tree/master/steganogan*"
   ]
  },
  {
   "cell_type": "markdown",
   "metadata": {
    "id": "OTRQl5_KUxUA"
   },
   "source": [
    "### Modules"
   ]
  },
  {
   "cell_type": "code",
   "execution_count": null,
   "metadata": {
    "id": "QbnEM8Oubduh"
   },
   "outputs": [],
   "source": [
    "import os\n",
    "os.environ[\"KERAS_BACKEND\"] = \"tensorflow\"\n",
    "\n",
    "import sys\n",
    "\n",
    "import tensorflow as tf\n",
    "from keras.losses import BinaryCrossentropy\n",
    "\n",
    "from models import (\n",
    "  steganogan_encoder_residual_model,\n",
    "  steganogan_decoder_basic_model,\n",
    "  steganogan_critic_model\n",
    ")\n",
    "\n",
    "from keras_steganogan import KerasSteganoGAN"
   ]
  },
  {
   "cell_type": "markdown",
   "metadata": {},
   "source": [
    "### Constants"
   ]
  },
  {
   "cell_type": "code",
   "execution_count": null,
   "metadata": {},
   "outputs": [],
   "source": [
    "# Image dimensions\n",
    "IMAGE_HEIGHT = 128\n",
    "IMAGE_WIDTH = 128\n",
    "IMAGE_CHANNELS = 3\n",
    "\n",
    "IMAGE_SHAPE = (IMAGE_HEIGHT, IMAGE_WIDTH, IMAGE_CHANNELS)\n",
    "MESSAGE_DEPTH = 6\n",
    "BATCH_SIZE = 4\n",
    "MODEL_PATH = 'steganoGAN_residual.keras'\n",
    "\n",
    "IMAGES_TESTING_PATH = 'images/testing'\n",
    "IMAGES_OUTPUT_PATH = 'images/testing_output'"
   ]
  },
  {
   "cell_type": "markdown",
   "metadata": {},
   "source": [
    "----"
   ]
  },
  {
   "cell_type": "markdown",
   "metadata": {},
   "source": [
    "### Call main encode and decode functions (with creating steganographic image and decoding it)"
   ]
  },
  {
   "cell_type": "code",
   "execution_count": null,
   "metadata": {},
   "outputs": [],
   "source": [
    "encoder = steganogan_encoder_residual_model(MESSAGE_DEPTH)\n",
    "decoder = steganogan_decoder_basic_model(MESSAGE_DEPTH)\n",
    "critic = steganogan_critic_model()\n",
    "\n",
    "steganoGAN = KerasSteganoGAN(\n",
    "  encoder=encoder,\n",
    "  decoder=decoder,\n",
    "  critic=critic,\n",
    "  data_depth=MESSAGE_DEPTH\n",
    ")\n",
    "\n",
    "steganoGAN.build([(1, IMAGE_HEIGHT, IMAGE_WIDTH, IMAGE_CHANNELS), (1, IMAGE_HEIGHT, IMAGE_WIDTH, MESSAGE_DEPTH)])\n",
    "\n",
    "if MODEL_PATH is not None and os.path.exists(MODEL_PATH):\n",
    "  steganoGAN.load_weights(MODEL_PATH)\n",
    "\n",
    "steganoGAN.encode(f'{IMAGES_TESTING_PATH}/input1.png', f'{IMAGES_OUTPUT_PATH}/output1.png', 'Hello, World! 1111')\n",
    "print(steganoGAN.decode(f'{IMAGES_OUTPUT_PATH}/output1.png'))\n",
    "\n",
    "steganoGAN.encode(f'{IMAGES_TESTING_PATH}/input2.png', f'{IMAGES_OUTPUT_PATH}/output2.png', 'Hello, World! 2222')\n",
    "print(steganoGAN.decode(f'{IMAGES_OUTPUT_PATH}/output2.png'))\n",
    "\n",
    "steganoGAN.encode(f'{IMAGES_TESTING_PATH}/input3.png', f'{IMAGES_OUTPUT_PATH}/output3.png', 'Hello, World! 3333')\n",
    "print(steganoGAN.decode(f'{IMAGES_OUTPUT_PATH}/output3.png'))\n",
    "\n",
    "steganoGAN.encode(f'{IMAGES_TESTING_PATH}/input4.png', f'{IMAGES_OUTPUT_PATH}/output4.png', 'Hello, World! 4444')\n",
    "print(steganoGAN.decode(f'{IMAGES_OUTPUT_PATH}/output4.png'))"
   ]
  },
  {
   "cell_type": "markdown",
   "metadata": {},
   "source": [
    "### SteganoGAN predict random data with metrics"
   ]
  },
  {
   "cell_type": "code",
   "execution_count": null,
   "metadata": {},
   "outputs": [],
   "source": [
    "cover_image = tf.random.uniform([1, IMAGE_HEIGHT, IMAGE_WIDTH, IMAGE_CHANNELS], -1, 1, dtype=tf.float32)\n",
    "message = tf.cast(tf.random.uniform([1, IMAGE_HEIGHT, IMAGE_WIDTH, MESSAGE_DEPTH], 0, 2, dtype=tf.int32), tf.float32)\n",
    "\n",
    "stego_img, recovered_msg = steganoGAN.predict([cover_image, message])\n",
    "\n",
    "print(\"stego_img min: {0}, max: {1}\".format(tf.reduce_min(stego_img), tf.reduce_max(stego_img)))\n",
    "print(\"recovered_msg min: {0}, max: {1}\".format(tf.reduce_min(recovered_msg), tf.reduce_max(recovered_msg)))\n",
    "\n",
    "print(\"BinaryCrossentropy: {0}\".format(BinaryCrossentropy(from_logits=False)(message, recovered_msg)))\n",
    "print(\"PSNR: {0}\".format(tf.reduce_mean(tf.image.psnr(cover_image, stego_img, 1))))\n",
    "print(\"SSIM: {0}\".format(tf.reduce_mean(tf.image.ssim(cover_image, stego_img, 1))))"
   ]
  }
 ],
 "metadata": {
  "colab": {
   "name": "steganogan_keras.ipynb",
   "provenance": [
    {
     "file_id": "https://github.com/jnickg/steganet/blob/main/steganogan_keras.ipynb",
     "timestamp": 1710610773710
    }
   ]
  },
  "kernelspec": {
   "display_name": "tf",
   "language": "python",
   "name": "python3"
  },
  "language_info": {
   "codemirror_mode": {
    "name": "ipython",
    "version": 3
   },
   "file_extension": ".py",
   "mimetype": "text/x-python",
   "name": "python",
   "nbconvert_exporter": "python",
   "pygments_lexer": "ipython3",
   "version": "3.12.7"
  },
  "orig_nbformat": 2
 },
 "nbformat": 4,
 "nbformat_minor": 0
}
